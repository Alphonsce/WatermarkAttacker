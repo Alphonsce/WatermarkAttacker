{
 "cells": [
  {
   "cell_type": "code",
   "execution_count": 1,
   "metadata": {},
   "outputs": [
    {
     "name": "stderr",
     "output_type": "stream",
     "text": [
      "/local/home/xuandongzhao/anaconda3/envs/wmatt/lib/python3.11/site-packages/tqdm/auto.py:21: TqdmWarning: IProgress not found. Please update jupyter and ipywidgets. See https://ipywidgets.readthedocs.io/en/stable/user_install.html\n",
      "  from .autonotebook import tqdm as notebook_tqdm\n"
     ]
    }
   ],
   "source": [
    "import torch\n",
    "import os\n",
    "import glob\n",
    "import numpy as np\n",
    "\n",
    "from diffusers import ReSDPipeline\n",
    "\n",
    "from utils import eval_psnr_ssim_msssim, bytearray_to_bits\n",
    "from watermarker import InvisibleWatermarker\n",
    "from wmattacker import DiffWMAttacker, VAEWMAttacker, JPEGAttacker"
   ]
  },
  {
   "cell_type": "code",
   "execution_count": 2,
   "metadata": {},
   "outputs": [],
   "source": [
    "wm_text = 'test'\n",
    "device = 'cuda:0'\n",
    "ori_path = 'examples/ori_imgs/'\n",
    "output_path = 'examples/wm_imgs/'\n",
    "print_width = 50"
   ]
  },
  {
   "cell_type": "code",
   "execution_count": 3,
   "metadata": {},
   "outputs": [
    {
     "name": "stdout",
     "output_type": "stream",
     "text": [
      "['examples/ori_imgs/000000000711.png', 'examples/ori_imgs/000000000776.png', 'examples/ori_imgs/000000000885.png', 'examples/ori_imgs/000000000969.png', 'examples/ori_imgs/000000001089.png', 'examples/ori_imgs/000000001442.png']\n"
     ]
    }
   ],
   "source": [
    "os.makedirs(output_path, exist_ok=True)\n",
    "ori_img_paths = glob.glob(os.path.join(ori_path, '*.*'))\n",
    "ori_img_paths = sorted([path for path in ori_img_paths if path.lower().endswith(('.jpg', '.jpeg', '.png', '.bmp', '.gif'))])\n",
    "print(ori_img_paths)"
   ]
  },
  {
   "cell_type": "code",
   "execution_count": 4,
   "metadata": {},
   "outputs": [],
   "source": [
    "wmarkers = {\n",
    "    'DwtDct': InvisibleWatermarker(wm_text, 'dwtDct'),\n",
    "    'DwtDctSvd': InvisibleWatermarker(wm_text, 'dwtDctSvd'),\n",
    "    'RivaGAN': InvisibleWatermarker(wm_text, 'rivaGan'),\n",
    "}"
   ]
  },
  {
   "cell_type": "code",
   "execution_count": 5,
   "metadata": {},
   "outputs": [
    {
     "name": "stderr",
     "output_type": "stream",
     "text": [
      "text_encoder/model.safetensors not found\n",
      "Loading pipeline components...: 100%|██████████| 5/5 [00:02<00:00,  2.22it/s]\n"
     ]
    },
    {
     "name": "stdout",
     "output_type": "stream",
     "text": [
      "Finished loading model\n"
     ]
    }
   ],
   "source": [
    "pipe = ReSDPipeline.from_pretrained(\"stabilityai/stable-diffusion-2-1\", torch_dtype=torch.float16, revision=\"fp16\")\n",
    "pipe.set_progress_bar_config(disable=True)\n",
    "pipe.to(device)\n",
    "print('Finished loading model')"
   ]
  },
  {
   "cell_type": "code",
   "execution_count": 6,
   "metadata": {},
   "outputs": [
    {
     "name": "stdout",
     "output_type": "stream",
     "text": [
      "Diffuse attack initialized with noise step 60 and use prompt 0\n"
     ]
    }
   ],
   "source": [
    "attackers = {\n",
    "    'diff_attacker_60': DiffWMAttacker(pipe, batch_size=5, noise_step=60, captions={}),\n",
    "    'cheng2020-anchor_3': VAEWMAttacker('cheng2020-anchor', quality=3, metric='mse', device=device),\n",
    "    'bmshj2018-factorized_3': VAEWMAttacker('bmshj2018-factorized', quality=3, metric='mse', device=device),\n",
    "    'jpeg_attacker_50': JPEGAttacker(quality=50),\n",
    "}"
   ]
  },
  {
   "cell_type": "code",
   "execution_count": 7,
   "metadata": {},
   "outputs": [
    {
     "name": "stdout",
     "output_type": "stream",
     "text": [
      "**************************************************\n",
      "Watermarking with DwtDct\n",
      "**************************************************\n",
      "Watermarking with DwtDctSvd\n",
      "**************************************************\n",
      "Watermarking with RivaGAN\n",
      "Finished watermarking\n"
     ]
    }
   ],
   "source": [
    "def add_watermark(wmarker_name, wmarker):\n",
    "    print('*' * print_width)\n",
    "    print(f'Watermarking with {wmarker_name}')\n",
    "    os.makedirs(os.path.join(output_path, wmarker_name + '/noatt'), exist_ok=True)\n",
    "    for ori_img_path in ori_img_paths:\n",
    "        img_name = os.path.basename(ori_img_path)\n",
    "        wmarker.encode(ori_img_path, os.path.join(output_path, wmarker_name + '/noatt', img_name))\n",
    "\n",
    "for wmarker_name, wmarker in wmarkers.items():\n",
    "    add_watermark(wmarker_name, wmarker)\n",
    "print('Finished watermarking')"
   ]
  },
  {
   "cell_type": "code",
   "execution_count": 8,
   "metadata": {},
   "outputs": [
    {
     "name": "stdout",
     "output_type": "stream",
     "text": [
      "**************************************************\n",
      "Attacking DwtDct with diff_attacker_60\n"
     ]
    },
    {
     "name": "stderr",
     "output_type": "stream",
     "text": [
      "4it [00:01,  3.06it/s]/share/edc/home/xuandongzhao/WatermarkAttacker/src/diffusers/pipelines/stable_diffusion/pipeline_stable_diffusion.py:429: FutureWarning: The decode_latents method is deprecated and will be removed in a future version. Please use VaeImageProcessor instead\n",
      "  warnings.warn(\n",
      "6it [00:02,  2.09it/s]\n"
     ]
    },
    {
     "name": "stdout",
     "output_type": "stream",
     "text": [
      "**************************************************\n",
      "Attacking DwtDct with cheng2020-anchor_3\n"
     ]
    },
    {
     "name": "stderr",
     "output_type": "stream",
     "text": [
      "6it [00:00,  6.90it/s]\n"
     ]
    },
    {
     "name": "stdout",
     "output_type": "stream",
     "text": [
      "**************************************************\n",
      "Attacking DwtDct with bmshj2018-factorized_3\n"
     ]
    },
    {
     "name": "stderr",
     "output_type": "stream",
     "text": [
      "6it [00:00,  7.14it/s]\n"
     ]
    },
    {
     "name": "stdout",
     "output_type": "stream",
     "text": [
      "**************************************************\n",
      "Attacking DwtDct with jpeg_attacker_50\n"
     ]
    },
    {
     "name": "stderr",
     "output_type": "stream",
     "text": [
      "6it [00:00, 69.42it/s]\n"
     ]
    },
    {
     "name": "stdout",
     "output_type": "stream",
     "text": [
      "**************************************************\n",
      "Attacking DwtDctSvd with diff_attacker_60\n"
     ]
    },
    {
     "name": "stderr",
     "output_type": "stream",
     "text": [
      "6it [00:01,  4.64it/s]\n"
     ]
    },
    {
     "name": "stdout",
     "output_type": "stream",
     "text": [
      "**************************************************\n",
      "Attacking DwtDctSvd with cheng2020-anchor_3\n"
     ]
    },
    {
     "name": "stderr",
     "output_type": "stream",
     "text": [
      "6it [00:00,  7.77it/s]\n"
     ]
    },
    {
     "name": "stdout",
     "output_type": "stream",
     "text": [
      "**************************************************\n",
      "Attacking DwtDctSvd with bmshj2018-factorized_3\n"
     ]
    },
    {
     "name": "stderr",
     "output_type": "stream",
     "text": [
      "6it [00:00,  7.39it/s]\n"
     ]
    },
    {
     "name": "stdout",
     "output_type": "stream",
     "text": [
      "**************************************************\n",
      "Attacking DwtDctSvd with jpeg_attacker_50\n"
     ]
    },
    {
     "name": "stderr",
     "output_type": "stream",
     "text": [
      "6it [00:00, 68.89it/s]\n"
     ]
    },
    {
     "name": "stdout",
     "output_type": "stream",
     "text": [
      "**************************************************\n",
      "Attacking RivaGAN with diff_attacker_60\n"
     ]
    },
    {
     "name": "stderr",
     "output_type": "stream",
     "text": [
      "6it [00:01,  4.58it/s]\n"
     ]
    },
    {
     "name": "stdout",
     "output_type": "stream",
     "text": [
      "**************************************************\n",
      "Attacking RivaGAN with cheng2020-anchor_3\n"
     ]
    },
    {
     "name": "stderr",
     "output_type": "stream",
     "text": [
      "6it [00:00,  7.79it/s]\n"
     ]
    },
    {
     "name": "stdout",
     "output_type": "stream",
     "text": [
      "**************************************************\n",
      "Attacking RivaGAN with bmshj2018-factorized_3\n"
     ]
    },
    {
     "name": "stderr",
     "output_type": "stream",
     "text": [
      "6it [00:00,  7.52it/s]\n"
     ]
    },
    {
     "name": "stdout",
     "output_type": "stream",
     "text": [
      "**************************************************\n",
      "Attacking RivaGAN with jpeg_attacker_50\n"
     ]
    },
    {
     "name": "stderr",
     "output_type": "stream",
     "text": [
      "6it [00:00, 69.73it/s]"
     ]
    },
    {
     "name": "stdout",
     "output_type": "stream",
     "text": [
      "Finished attacking\n"
     ]
    },
    {
     "name": "stderr",
     "output_type": "stream",
     "text": [
      "\n"
     ]
    }
   ],
   "source": [
    "for wmarker_name, wmarker in wmarkers.items():\n",
    "    for attacker_name, attacker in attackers.items():\n",
    "        print('*' * print_width)\n",
    "        print(f'Attacking {wmarker_name} with {attacker_name}')\n",
    "        wm_img_paths = []\n",
    "        att_img_paths = []\n",
    "        os.makedirs(os.path.join(output_path, wmarker_name, attacker_name), exist_ok=True)\n",
    "        for ori_img_path in ori_img_paths:\n",
    "            img_name = os.path.basename(ori_img_path)\n",
    "            wm_img_paths.append(os.path.join(output_path, wmarker_name + '/noatt', img_name))\n",
    "            att_img_paths.append(os.path.join(output_path, wmarker_name, attacker_name, img_name))\n",
    "        attackers[attacker_name].attack(wm_img_paths, att_img_paths)\n",
    "        \n",
    "print('Finished attacking')"
   ]
  },
  {
   "cell_type": "code",
   "execution_count": 9,
   "metadata": {},
   "outputs": [
    {
     "name": "stdout",
     "output_type": "stream",
     "text": [
      "**************************************************\n",
      "Watermark: DwtDct\n",
      "**************************************************\n",
      "Watermark: DwtDctSvd\n",
      "**************************************************\n",
      "Watermark: RivaGAN\n",
      "Finished evaluating watermarking\n"
     ]
    }
   ],
   "source": [
    "wm_results = {}\n",
    "for wmarker_name, wmarker in wmarkers.items():\n",
    "    print('*' * print_width)\n",
    "    print(f'Watermark: {wmarker_name}')\n",
    "    wm_successes = []\n",
    "    wm_psnr_list = []\n",
    "    wm_ssim_list = []\n",
    "    wm_msssim_list = []\n",
    "    for ori_img_path in ori_img_paths:\n",
    "        img_name = os.path.basename(ori_img_path)\n",
    "        wm_img_path = os.path.join(output_path, wmarker_name+'/noatt', img_name)\n",
    "        wm_psnr, wm_ssim, wm_msssim = eval_psnr_ssim_msssim(ori_img_path, wm_img_path)\n",
    "        wm_psnr_list.append(wm_psnr)\n",
    "        wm_ssim_list.append(wm_ssim)\n",
    "        wm_msssim_list.append(wm_msssim)\n",
    "    wm_results[wmarker_name] = {}\n",
    "    wm_results[wmarker_name]['wm_psnr'] = np.array(wm_psnr_list).mean()\n",
    "    wm_results[wmarker_name]['wm_ssim'] = np.array(wm_ssim_list).mean()\n",
    "    wm_results[wmarker_name]['wm_msssim'] = np.array(wm_msssim_list).mean()\n",
    "    \n",
    "print('Finished evaluating watermarking')"
   ]
  },
  {
   "cell_type": "code",
   "execution_count": 10,
   "metadata": {},
   "outputs": [
    {
     "data": {
      "text/plain": [
       "{'DwtDct': {'wm_psnr': 39.68427960034699,\n",
       "  'wm_ssim': 0.9798382719357809,\n",
       "  'wm_msssim': 0.9923724134763082},\n",
       " 'DwtDctSvd': {'wm_psnr': 39.79678248735391,\n",
       "  'wm_ssim': 0.9887041548887888,\n",
       "  'wm_msssim': 0.9908552368481954},\n",
       " 'RivaGAN': {'wm_psnr': 40.576834213869915,\n",
       "  'wm_ssim': 0.9815376698970795,\n",
       "  'wm_msssim': 0.9897827307383219}}"
      ]
     },
     "execution_count": 10,
     "metadata": {},
     "output_type": "execute_result"
    }
   ],
   "source": [
    "wm_results"
   ]
  },
  {
   "cell_type": "code",
   "execution_count": 11,
   "metadata": {},
   "outputs": [
    {
     "name": "stdout",
     "output_type": "stream",
     "text": [
      "**************************************************\n",
      "Watermark: DwtDct\n",
      "**************************************************\n",
      "Watermark: DwtDctSvd\n",
      "**************************************************\n",
      "Watermark: RivaGAN\n",
      "Finished evaluating watermarking\n"
     ]
    }
   ],
   "source": [
    "detect_wm_results = {}\n",
    "for wmarker_name, wmarker in wmarkers.items():\n",
    "    print('*' * print_width)\n",
    "    print(f'Watermark: {wmarker_name}')\n",
    "    bit_accs = []\n",
    "    wm_successes = []\n",
    "    for ori_img_path in ori_img_paths:\n",
    "        img_name = os.path.basename(ori_img_path)\n",
    "        wm_img_path = os.path.join(output_path, wmarker_name+'/noatt', img_name)\n",
    "        wm_psnr, wm_ssim, wm_msssim = eval_psnr_ssim_msssim(ori_img_path, wm_img_path)\n",
    "        wm_text = wmarkers[wmarker_name].decode(wm_img_path)\n",
    "        try:\n",
    "            if type(wm_text) == bytes:\n",
    "                a = bytearray_to_bits('test'.encode('utf-8'))\n",
    "                b = bytearray_to_bits(wm_text)\n",
    "            elif type(wm_text) == str:\n",
    "                a = bytearray_to_bits('test'.encode('utf-8'))\n",
    "                b = bytearray_to_bits(wm_text.encode('utf-8'))\n",
    "            bit_acc = (np.array(a) ==  np.array(b)).mean()\n",
    "            bit_accs.append(bit_acc)\n",
    "            if bit_acc > 24/32:\n",
    "                wm_successes.append(img_name)\n",
    "        except:\n",
    "            print('#' * print_width)\n",
    "            print(f'failed to decode {wm_text}', type(wm_text), len(wm_text))\n",
    "            pass\n",
    "    detect_wm_results[wmarker_name] = {}\n",
    "    detect_wm_results[wmarker_name]['bit_acc'] = np.array(bit_accs).mean()\n",
    "    \n",
    "print('Finished evaluating watermarking')"
   ]
  },
  {
   "cell_type": "code",
   "execution_count": 12,
   "metadata": {},
   "outputs": [
    {
     "data": {
      "text/plain": [
       "{'DwtDct': {'bit_acc': 0.8177083333333334},\n",
       " 'DwtDctSvd': {'bit_acc': 1.0},\n",
       " 'RivaGAN': {'bit_acc': 1.0}}"
      ]
     },
     "execution_count": 12,
     "metadata": {},
     "output_type": "execute_result"
    }
   ],
   "source": [
    "detect_wm_results"
   ]
  },
  {
   "cell_type": "code",
   "execution_count": null,
   "metadata": {},
   "outputs": [],
   "source": []
  }
 ],
 "metadata": {
  "kernelspec": {
   "display_name": "wmatt",
   "language": "python",
   "name": "python3"
  },
  "language_info": {
   "codemirror_mode": {
    "name": "ipython",
    "version": 3
   },
   "file_extension": ".py",
   "mimetype": "text/x-python",
   "name": "python",
   "nbconvert_exporter": "python",
   "pygments_lexer": "ipython3",
   "version": "3.11.4"
  },
  "orig_nbformat": 4
 },
 "nbformat": 4,
 "nbformat_minor": 2
}
